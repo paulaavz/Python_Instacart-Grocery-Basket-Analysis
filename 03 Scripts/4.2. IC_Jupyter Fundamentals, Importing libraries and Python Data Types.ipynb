{
 "cells": [
  {
   "cell_type": "markdown",
   "id": "3fd3e9f0",
   "metadata": {},
   "source": [
    "# 01.Importing libraries"
   ]
  },
  {
   "cell_type": "code",
   "execution_count": null,
   "id": "bdd44117",
   "metadata": {},
   "outputs": [],
   "source": [
    "# Import libraries: Pandas and NumPy\n",
    "\n",
    "import pandas as pd\n",
    "import numpy as np\n",
    "import os"
   ]
  },
  {
   "cell_type": "markdown",
   "id": "8eea456f",
   "metadata": {},
   "source": [
    "# 02. Data types"
   ]
  },
  {
   "cell_type": "markdown",
   "id": "eca22073",
   "metadata": {},
   "source": [
    "Code 3 different ways of reaching a result of 100 by adding or subtracting numeric variables"
   ]
  },
  {
   "cell_type": "code",
   "execution_count": 20,
   "id": "0a4a819b",
   "metadata": {},
   "outputs": [
    {
     "data": {
      "text/plain": [
       "100"
      ]
     },
     "execution_count": 20,
     "metadata": {},
     "output_type": "execute_result"
    }
   ],
   "source": [
    "# 1st by adding numeric variables\n",
    "\n",
    "x = 30\n",
    "y = 60\n",
    "z = 10\n",
    "x+y+z"
   ]
  },
  {
   "cell_type": "code",
   "execution_count": 21,
   "id": "f3432ed4",
   "metadata": {},
   "outputs": [
    {
     "data": {
      "text/plain": [
       "100"
      ]
     },
     "execution_count": 21,
     "metadata": {},
     "output_type": "execute_result"
    }
   ],
   "source": [
    "# 2nd by subtracting numeric variables\n",
    "\n",
    "x = 150\n",
    "y = 50\n",
    "x-y"
   ]
  },
  {
   "cell_type": "code",
   "execution_count": 22,
   "id": "a5b43165",
   "metadata": {},
   "outputs": [
    {
     "data": {
      "text/plain": [
       "100"
      ]
     },
     "execution_count": 22,
     "metadata": {},
     "output_type": "execute_result"
    }
   ],
   "source": [
    "# 3rd by adding and subtracting\n",
    "\n",
    "x = 300\n",
    "y = 250\n",
    "z = 50\n",
    "x-y+z"
   ]
  },
  {
   "cell_type": "markdown",
   "id": "7cce8ac7",
   "metadata": {},
   "source": [
    "Code 2 floating-point variables and divide them by each other."
   ]
  },
  {
   "cell_type": "code",
   "execution_count": 30,
   "id": "0af1fdc6",
   "metadata": {},
   "outputs": [
    {
     "data": {
      "text/plain": [
       "5.0"
      ]
     },
     "execution_count": 30,
     "metadata": {},
     "output_type": "execute_result"
    }
   ],
   "source": [
    "# 1st by adding numeric variables\n",
    "\n",
    "x = 45.5\n",
    "y = 9.1\n",
    "x/y"
   ]
  },
  {
   "cell_type": "code",
   "execution_count": 31,
   "id": "51ef9f92",
   "metadata": {},
   "outputs": [
    {
     "data": {
      "text/plain": [
       "float"
      ]
     },
     "execution_count": 31,
     "metadata": {},
     "output_type": "execute_result"
    }
   ],
   "source": [
    "type(x)"
   ]
  },
  {
   "cell_type": "markdown",
   "id": "5b72683c",
   "metadata": {},
   "source": [
    "Construct a short word made of separate strings (you’ll need to concatenate some strings!)."
   ]
  },
  {
   "cell_type": "code",
   "execution_count": 32,
   "id": "006bb449",
   "metadata": {},
   "outputs": [
    {
     "data": {
      "text/plain": [
       "'Data'"
      ]
     },
     "execution_count": 32,
     "metadata": {},
     "output_type": "execute_result"
    }
   ],
   "source": [
    "x = 'Da'\n",
    "y = 'ta'\n",
    "x+y"
   ]
  },
  {
   "cell_type": "code",
   "execution_count": 33,
   "id": "bb2acfc7",
   "metadata": {},
   "outputs": [
    {
     "data": {
      "text/plain": [
       "str"
      ]
     },
     "execution_count": 33,
     "metadata": {},
     "output_type": "execute_result"
    }
   ],
   "source": [
    "type(x)"
   ]
  },
  {
   "cell_type": "markdown",
   "id": "e96c1e9f",
   "metadata": {},
   "source": [
    "Construct 2 short sentences made of separate strings."
   ]
  },
  {
   "cell_type": "code",
   "execution_count": 27,
   "id": "836102f8",
   "metadata": {},
   "outputs": [
    {
     "data": {
      "text/plain": [
       "'Python is great for data analysis.'"
      ]
     },
     "execution_count": 27,
     "metadata": {},
     "output_type": "execute_result"
    }
   ],
   "source": [
    "# 1st sentence made of separate strings.\n",
    "\n",
    "x = 'Python'\n",
    "y = ' is great'\n",
    "z = ' for data analysis.'\n",
    "x+y+z"
   ]
  },
  {
   "cell_type": "code",
   "execution_count": 28,
   "id": "1091da3e",
   "metadata": {},
   "outputs": [
    {
     "data": {
      "text/plain": [
       "'Jupyter notebooks  make it easy to write Python code.'"
      ]
     },
     "execution_count": 28,
     "metadata": {},
     "output_type": "execute_result"
    }
   ],
   "source": [
    "# 2nd sentence made of separate strings.\n",
    "\n",
    "x = 'Jupyter notebooks '\n",
    "y = ' make it easy'\n",
    "z = ' to write Python code.'\n",
    "x+y+z"
   ]
  },
  {
   "cell_type": "markdown",
   "id": "fe7613c4",
   "metadata": {},
   "source": [
    "## Bonus task"
   ]
  },
  {
   "cell_type": "code",
   "execution_count": 1,
   "id": "a8266913",
   "metadata": {},
   "outputs": [
    {
     "data": {
      "text/plain": [
       "'datadatadatadatadatadatadatadatadatadatadatadatadatadatadatadatadatadatadatadatadatadatadatadatadatadatadatadatadatadatadatadatadatadatadatadatadatadatadatadatadatadatadatadatadatadatadatadatadatadatadatadatadatadatadatadatadatadatadatadatadatadatadatadatadatadatadatadatadatadatadatadatadatadatadatadatadatadatadatadatadatadatadatadatadatadatadatadatadatadatadatadatadatadatadatadatadatadatadatadata'"
      ]
     },
     "execution_count": 1,
     "metadata": {},
     "output_type": "execute_result"
    }
   ],
   "source": [
    "# command that makes a string appear 100 times\n",
    "\n",
    "x = 'data'\n",
    "x*100"
   ]
  },
  {
   "cell_type": "code",
   "execution_count": null,
   "id": "18fa34d3",
   "metadata": {},
   "outputs": [],
   "source": []
  }
 ],
 "metadata": {
  "kernelspec": {
   "display_name": "Python 3 (ipykernel)",
   "language": "python",
   "name": "python3"
  },
  "language_info": {
   "codemirror_mode": {
    "name": "ipython",
    "version": 3
   },
   "file_extension": ".py",
   "mimetype": "text/x-python",
   "name": "python",
   "nbconvert_exporter": "python",
   "pygments_lexer": "ipython3",
   "version": "3.11.3"
  }
 },
 "nbformat": 4,
 "nbformat_minor": 5
}
