{
 "cells": [
  {
   "cell_type": "markdown",
   "id": "a424005f",
   "metadata": {},
   "source": [
    "# 4.6.2. IC_Combining & Exporting Data"
   ]
  },
  {
   "cell_type": "markdown",
   "id": "12952c4e",
   "metadata": {},
   "source": [
    "#### Context:\n",
    "- We want to combine our dataframes: **`df_ords` and `df_prods`**\n",
    "- `df_ords` and `df_prods` dataframes don’t contain a common column. \n",
    "- To solve this problem, we’ll combine our `df_ords` dataframe with a new dataframe called `orders_products_prior`.\n",
    "   - Merge these using 'order_id'. \n",
    "   - This new dataframe contains a “product_id” column—the same as our `df_prods` dataframe.\n",
    "   - By adding this column to our `df_ords` dataframe, we’ll have created a common column between `df_ords` and `df_prods`, paving the way for a successful merge.\n",
    "   \n",
    "#### Notebook Part 1:\n",
    "- merging our prepared Instacart orders data with the new orders_products_prior dataframe\n",
    "    - Merge \"df_ords_prior\" with \"df_ords\", using 'order_id'.\n",
    "    - Using the indicator argument to check whether there was a full match between the two dataframes.\n",
    "    - Checking the results of the merge using the \"value_counts()\" function - full match.\n",
    "- Exporting the merged file in pickle format as “orders_products_combined.pkl”.\n",
    "\n",
    "#### Notebook Part 2:\n",
    "- new notebook, importing the “orders_products_combined.pkl” dataframe from the pickle file.\n",
    "- importing our wrangled, cleaned, and debuped products data set stored in our “Prepared Data” folder from the previous step.\n",
    "- Checking the shape of the imported dataframes.\n",
    "- Determining a suitable way to combine the orders_products_combined dataframe with our products data set. \n",
    "    - Before merging, we will drop the unnecessary columns from both dataframes.\n",
    "- Confirming the results of the merge using the merge flag.\n",
    "- Exporting the newly created dataframe as ords_prods_merge in a suitable format (taking into consideration the size)."
   ]
  },
  {
   "cell_type": "markdown",
   "id": "35aeb4ec",
   "metadata": {},
   "source": [
    "### This script contains the following points:\n",
    "\n",
    "#### 0. Importing Libraries\n",
    "#### 1. Loading and Checking the Data\n",
    "#### 2. Merging Dataframes\n",
    "#### 3. Exporting Merged Dataframe as a Pickle\n",
    "\n"
   ]
  },
  {
   "cell_type": "markdown",
   "id": "3fd3e9f0",
   "metadata": {},
   "source": [
    "## 0. Importing Libraries"
   ]
  },
  {
   "cell_type": "code",
   "execution_count": 1,
   "id": "91ccdfd5",
   "metadata": {},
   "outputs": [],
   "source": [
    "# Import libraries: pandas, NumPy and os.\n",
    "\n",
    "import pandas as pd\n",
    "import numpy as np\n",
    "import os"
   ]
  },
  {
   "cell_type": "markdown",
   "id": "47e284ec",
   "metadata": {},
   "source": [
    "## 1. Loading and Checking the Data"
   ]
  },
  {
   "cell_type": "markdown",
   "id": "eeb82606",
   "metadata": {},
   "source": [
    "Importing Data Files, using os.path.join() function\n",
    "\n",
    "path = r'/folderpath_to main project folder/'\n",
    "\n",
    "df = pd.read_csv(os.path.join(path,'folderpath','name.csv'), index_col = False)\n"
   ]
  },
  {
   "cell_type": "code",
   "execution_count": 2,
   "id": "184de5f7",
   "metadata": {},
   "outputs": [],
   "source": [
    "# folder path to my main project folder is now stored within variable 'path'\n",
    "\n",
    "path = r'/Users/pau/06-05-2024 Instacart Basket Analysis'"
   ]
  },
  {
   "cell_type": "markdown",
   "id": "a37a64fa",
   "metadata": {},
   "source": [
    "#### Importing the “orders_products_combined.pkl” data set into my Jupyter notebook using the os library as df_ords_prods_combined"
   ]
  },
  {
   "cell_type": "markdown",
   "id": "5bbfd798",
   "metadata": {},
   "source": [
    "Importing pickle files also follows a similar syntax to its “.csv” counterpart:\n",
    "- the only difference comes\n",
    "     - in the function (`read_pickle()`)\n",
    "     - and the lack of an `index_col`, since pickle-format files include this information already."
   ]
  },
  {
   "cell_type": "code",
   "execution_count": 3,
   "id": "ac277fbd",
   "metadata": {},
   "outputs": [],
   "source": [
    "# Import the “orders_products_combined.pkl” data from the “Prepared Data” folder as df_ords_prods_combined \n",
    "\n",
    "\n",
    "df_ords_prods_combined = pd.read_pickle(os.path.join(path,'02 Data','Prepared Data','orders_products_combined.pkl'))"
   ]
  },
  {
   "cell_type": "markdown",
   "id": "0286894a",
   "metadata": {},
   "source": [
    "#### Checking the dimensions of the imported dataframe and if the data is correctly loaded"
   ]
  },
  {
   "cell_type": "code",
   "execution_count": 4,
   "id": "099adafa",
   "metadata": {},
   "outputs": [
    {
     "name": "stdout",
     "output_type": "stream",
     "text": [
      "   Unnamed: 0.1  Unnamed: 0  order_id  user_id  order_number  \\\n",
      "0             0           0   2539329        1             1   \n",
      "1             0           0   2539329        1             1   \n",
      "2             0           0   2539329        1             1   \n",
      "3             0           0   2539329        1             1   \n",
      "4             0           0   2539329        1             1   \n",
      "\n",
      "   orders_day_of_week  order_hour_of_day  days_since_prior_order  \\\n",
      "0                   2                  8                     NaN   \n",
      "1                   2                  8                     NaN   \n",
      "2                   2                  8                     NaN   \n",
      "3                   2                  8                     NaN   \n",
      "4                   2                  8                     NaN   \n",
      "\n",
      "   is_first_order  product_id  add_to_cart_order  reordered _merge  \n",
      "0               1         196                  1          0   both  \n",
      "1               1       14084                  2          0   both  \n",
      "2               1       12427                  3          0   both  \n",
      "3               1       26088                  4          0   both  \n",
      "4               1       26405                  5          0   both  \n",
      "<class 'pandas.core.frame.DataFrame'>\n",
      "RangeIndex: 32434489 entries, 0 to 32434488\n",
      "Data columns (total 13 columns):\n",
      " #   Column                  Dtype   \n",
      "---  ------                  -----   \n",
      " 0   Unnamed: 0.1            int64   \n",
      " 1   Unnamed: 0              int64   \n",
      " 2   order_id                int64   \n",
      " 3   user_id                 int64   \n",
      " 4   order_number            int64   \n",
      " 5   orders_day_of_week      int64   \n",
      " 6   order_hour_of_day       int64   \n",
      " 7   days_since_prior_order  float64 \n",
      " 8   is_first_order          int64   \n",
      " 9   product_id              int64   \n",
      " 10  add_to_cart_order       int64   \n",
      " 11  reordered               int64   \n",
      " 12  _merge                  category\n",
      "dtypes: category(1), float64(1), int64(11)\n",
      "memory usage: 2.9 GB\n",
      "None\n",
      "(32434489, 13)\n"
     ]
    }
   ],
   "source": [
    "# Checking \"orders_products_combined.pkl\" data is correctly loaded\n",
    "\n",
    "print(df_ords_prods_combined.head()) # to ensure nothing looks off about our imported dataframes.\n",
    "print(df_ords_prods_combined.info()) # \n",
    "print(df_ords_prods_combined.shape) # to confirm the total size of our imported df. Great way to get a feel for the data and have a better idea how to proceed."
   ]
  },
  {
   "cell_type": "markdown",
   "id": "a0a7cf57",
   "metadata": {},
   "source": [
    "After checking, we can confirm that it has the same shape as the df we exported: (32434489, 13)"
   ]
  },
  {
   "cell_type": "markdown",
   "id": "1a92e2b4",
   "metadata": {},
   "source": [
    "#### Imporitng our wrangled, cleaned, and debuped products data set stored in our “Prepared Data” folder from the previous step."
   ]
  },
  {
   "cell_type": "code",
   "execution_count": 5,
   "id": "3a8d7326",
   "metadata": {},
   "outputs": [],
   "source": [
    "# Import the “products_checked.csv” data from the “Prepared Data” folder as df_prods\n",
    "\n",
    "df_prods = pd.read_csv(os.path.join(path, '02 Data', 'Prepared Data', 'products_checked.csv'))"
   ]
  },
  {
   "cell_type": "code",
   "execution_count": 6,
   "id": "080142d7",
   "metadata": {},
   "outputs": [
    {
     "name": "stdout",
     "output_type": "stream",
     "text": [
      "   Unnamed: 0  product_id                                       product_name  \\\n",
      "0           0           1                         Chocolate Sandwich Cookies   \n",
      "1           1           2                                   All-Seasons Salt   \n",
      "2           2           3               Robust Golden Unsweetened Oolong Tea   \n",
      "3           3           4  Smart Ones Classic Favorites Mini Rigatoni Wit...   \n",
      "4           4           5                          Green Chile Anytime Sauce   \n",
      "\n",
      "   aisle_id  department_id  prices  \n",
      "0        61             19     5.8  \n",
      "1       104             13     9.3  \n",
      "2        94              7     4.5  \n",
      "3        38              1    10.5  \n",
      "4         5             13     4.3  \n",
      "<class 'pandas.core.frame.DataFrame'>\n",
      "RangeIndex: 49672 entries, 0 to 49671\n",
      "Data columns (total 6 columns):\n",
      " #   Column         Non-Null Count  Dtype  \n",
      "---  ------         --------------  -----  \n",
      " 0   Unnamed: 0     49672 non-null  int64  \n",
      " 1   product_id     49672 non-null  int64  \n",
      " 2   product_name   49672 non-null  object \n",
      " 3   aisle_id       49672 non-null  int64  \n",
      " 4   department_id  49672 non-null  int64  \n",
      " 5   prices         49672 non-null  float64\n",
      "dtypes: float64(1), int64(4), object(1)\n",
      "memory usage: 2.3+ MB\n",
      "None\n"
     ]
    },
    {
     "data": {
      "text/plain": [
       "(49672, 6)"
      ]
     },
     "execution_count": 6,
     "metadata": {},
     "output_type": "execute_result"
    }
   ],
   "source": [
    "# Checking \"products_checked.csv\" data is correctly loaded\n",
    "\n",
    "print(df_prods.head())\n",
    "print(df_prods.info())\n",
    "df_prods.shape"
   ]
  },
  {
   "cell_type": "markdown",
   "id": "3e40b0a9",
   "metadata": {},
   "source": [
    "## 2. Merging Dataframes"
   ]
  },
  {
   "cell_type": "markdown",
   "id": "c398c586",
   "metadata": {},
   "source": [
    "#### Determining a suitable way to combine the orders_products_combined dataframe with our products data set\n",
    "\n",
    "- Before merging, we will drop the unnecessary columns from both dataframes"
   ]
  },
  {
   "cell_type": "code",
   "execution_count": 7,
   "id": "428b2734",
   "metadata": {},
   "outputs": [],
   "source": [
    "# drop the unnecessary columns from both dataframes\n",
    "\n",
    "df_ords_prods_combined = df_ords_prods_combined.drop(['Unnamed: 0.1', 'Unnamed: 0', '_merge'], axis=1)\n"
   ]
  },
  {
   "cell_type": "code",
   "execution_count": 8,
   "id": "e12a7730",
   "metadata": {},
   "outputs": [],
   "source": [
    "# drop the unnecessary columns from both dataframes\n",
    "\n",
    "df_prods = df_prods.drop(['Unnamed: 0'], axis=1,)"
   ]
  },
  {
   "cell_type": "code",
   "execution_count": 9,
   "id": "47aeeadc",
   "metadata": {},
   "outputs": [
    {
     "name": "stdout",
     "output_type": "stream",
     "text": [
      "   order_id  user_id  order_number  orders_day_of_week  order_hour_of_day  \\\n",
      "0   2539329        1             1                   2                  8   \n",
      "1   2539329        1             1                   2                  8   \n",
      "2   2539329        1             1                   2                  8   \n",
      "3   2539329        1             1                   2                  8   \n",
      "4   2539329        1             1                   2                  8   \n",
      "\n",
      "   days_since_prior_order  is_first_order  product_id  add_to_cart_order  \\\n",
      "0                     NaN               1         196                  1   \n",
      "1                     NaN               1       14084                  2   \n",
      "2                     NaN               1       12427                  3   \n",
      "3                     NaN               1       26088                  4   \n",
      "4                     NaN               1       26405                  5   \n",
      "\n",
      "   reordered  \n",
      "0          0  \n",
      "1          0  \n",
      "2          0  \n",
      "3          0  \n",
      "4          0  \n",
      "<class 'pandas.core.frame.DataFrame'>\n",
      "RangeIndex: 32434489 entries, 0 to 32434488\n",
      "Data columns (total 10 columns):\n",
      " #   Column                  Dtype  \n",
      "---  ------                  -----  \n",
      " 0   order_id                int64  \n",
      " 1   user_id                 int64  \n",
      " 2   order_number            int64  \n",
      " 3   orders_day_of_week      int64  \n",
      " 4   order_hour_of_day       int64  \n",
      " 5   days_since_prior_order  float64\n",
      " 6   is_first_order          int64  \n",
      " 7   product_id              int64  \n",
      " 8   add_to_cart_order       int64  \n",
      " 9   reordered               int64  \n",
      "dtypes: float64(1), int64(9)\n",
      "memory usage: 2.4 GB\n",
      "None\n"
     ]
    }
   ],
   "source": [
    "# Check the results of dropping unnecessary columns\n",
    "\n",
    "print(df_ords_prods_combined.head())\n",
    "print(df_ords_prods_combined.info())\n"
   ]
  },
  {
   "cell_type": "code",
   "execution_count": 10,
   "id": "6f81ff40",
   "metadata": {},
   "outputs": [
    {
     "data": {
      "text/plain": [
       "(32434489, 10)"
      ]
     },
     "execution_count": 10,
     "metadata": {},
     "output_type": "execute_result"
    }
   ],
   "source": [
    "df_ords_prods_combined.shape"
   ]
  },
  {
   "cell_type": "code",
   "execution_count": 11,
   "id": "23d92804",
   "metadata": {},
   "outputs": [
    {
     "name": "stdout",
     "output_type": "stream",
     "text": [
      "   product_id                                       product_name  aisle_id  \\\n",
      "0           1                         Chocolate Sandwich Cookies        61   \n",
      "1           2                                   All-Seasons Salt       104   \n",
      "2           3               Robust Golden Unsweetened Oolong Tea        94   \n",
      "3           4  Smart Ones Classic Favorites Mini Rigatoni Wit...        38   \n",
      "4           5                          Green Chile Anytime Sauce         5   \n",
      "\n",
      "   department_id  prices  \n",
      "0             19     5.8  \n",
      "1             13     9.3  \n",
      "2              7     4.5  \n",
      "3              1    10.5  \n",
      "4             13     4.3  \n",
      "<class 'pandas.core.frame.DataFrame'>\n",
      "RangeIndex: 49672 entries, 0 to 49671\n",
      "Data columns (total 5 columns):\n",
      " #   Column         Non-Null Count  Dtype  \n",
      "---  ------         --------------  -----  \n",
      " 0   product_id     49672 non-null  int64  \n",
      " 1   product_name   49672 non-null  object \n",
      " 2   aisle_id       49672 non-null  int64  \n",
      " 3   department_id  49672 non-null  int64  \n",
      " 4   prices         49672 non-null  float64\n",
      "dtypes: float64(1), int64(3), object(1)\n",
      "memory usage: 1.9+ MB\n",
      "None\n"
     ]
    }
   ],
   "source": [
    "# Check the results of dropping unnecessary columns\n",
    "\n",
    "print(df_prods.head())\n",
    "print(df_prods.info())"
   ]
  },
  {
   "cell_type": "code",
   "execution_count": 12,
   "id": "01382a68",
   "metadata": {},
   "outputs": [
    {
     "data": {
      "text/plain": [
       "(49672, 5)"
      ]
     },
     "execution_count": 12,
     "metadata": {},
     "output_type": "execute_result"
    }
   ],
   "source": [
    "df_prods.shape"
   ]
  },
  {
   "cell_type": "code",
   "execution_count": 13,
   "id": "3d290a31",
   "metadata": {},
   "outputs": [],
   "source": [
    "# Merge \"df_ords_prods_combined\" with \"df_prods\" using their common column \"product_id\"\n",
    "\n",
    "df_ords_prods_merge = df_prods.merge(df_ords_prods_combined, on = 'product_id', indicator = True)"
   ]
  },
  {
   "cell_type": "code",
   "execution_count": 14,
   "id": "45dbde71",
   "metadata": {},
   "outputs": [
    {
     "data": {
      "text/html": [
       "<div>\n",
       "<style scoped>\n",
       "    .dataframe tbody tr th:only-of-type {\n",
       "        vertical-align: middle;\n",
       "    }\n",
       "\n",
       "    .dataframe tbody tr th {\n",
       "        vertical-align: top;\n",
       "    }\n",
       "\n",
       "    .dataframe thead th {\n",
       "        text-align: right;\n",
       "    }\n",
       "</style>\n",
       "<table border=\"1\" class=\"dataframe\">\n",
       "  <thead>\n",
       "    <tr style=\"text-align: right;\">\n",
       "      <th></th>\n",
       "      <th>product_id</th>\n",
       "      <th>product_name</th>\n",
       "      <th>aisle_id</th>\n",
       "      <th>department_id</th>\n",
       "      <th>prices</th>\n",
       "      <th>order_id</th>\n",
       "      <th>user_id</th>\n",
       "      <th>order_number</th>\n",
       "      <th>orders_day_of_week</th>\n",
       "      <th>order_hour_of_day</th>\n",
       "      <th>days_since_prior_order</th>\n",
       "      <th>is_first_order</th>\n",
       "      <th>add_to_cart_order</th>\n",
       "      <th>reordered</th>\n",
       "      <th>_merge</th>\n",
       "    </tr>\n",
       "  </thead>\n",
       "  <tbody>\n",
       "    <tr>\n",
       "      <th>0</th>\n",
       "      <td>1</td>\n",
       "      <td>Chocolate Sandwich Cookies</td>\n",
       "      <td>61</td>\n",
       "      <td>19</td>\n",
       "      <td>5.8</td>\n",
       "      <td>3139998</td>\n",
       "      <td>138</td>\n",
       "      <td>28</td>\n",
       "      <td>6</td>\n",
       "      <td>11</td>\n",
       "      <td>3.0</td>\n",
       "      <td>0</td>\n",
       "      <td>5</td>\n",
       "      <td>0</td>\n",
       "      <td>both</td>\n",
       "    </tr>\n",
       "    <tr>\n",
       "      <th>1</th>\n",
       "      <td>1</td>\n",
       "      <td>Chocolate Sandwich Cookies</td>\n",
       "      <td>61</td>\n",
       "      <td>19</td>\n",
       "      <td>5.8</td>\n",
       "      <td>1977647</td>\n",
       "      <td>138</td>\n",
       "      <td>30</td>\n",
       "      <td>6</td>\n",
       "      <td>17</td>\n",
       "      <td>20.0</td>\n",
       "      <td>0</td>\n",
       "      <td>1</td>\n",
       "      <td>1</td>\n",
       "      <td>both</td>\n",
       "    </tr>\n",
       "    <tr>\n",
       "      <th>2</th>\n",
       "      <td>1</td>\n",
       "      <td>Chocolate Sandwich Cookies</td>\n",
       "      <td>61</td>\n",
       "      <td>19</td>\n",
       "      <td>5.8</td>\n",
       "      <td>389851</td>\n",
       "      <td>709</td>\n",
       "      <td>2</td>\n",
       "      <td>0</td>\n",
       "      <td>21</td>\n",
       "      <td>6.0</td>\n",
       "      <td>0</td>\n",
       "      <td>20</td>\n",
       "      <td>0</td>\n",
       "      <td>both</td>\n",
       "    </tr>\n",
       "    <tr>\n",
       "      <th>3</th>\n",
       "      <td>1</td>\n",
       "      <td>Chocolate Sandwich Cookies</td>\n",
       "      <td>61</td>\n",
       "      <td>19</td>\n",
       "      <td>5.8</td>\n",
       "      <td>652770</td>\n",
       "      <td>764</td>\n",
       "      <td>1</td>\n",
       "      <td>3</td>\n",
       "      <td>13</td>\n",
       "      <td>NaN</td>\n",
       "      <td>1</td>\n",
       "      <td>10</td>\n",
       "      <td>0</td>\n",
       "      <td>both</td>\n",
       "    </tr>\n",
       "    <tr>\n",
       "      <th>4</th>\n",
       "      <td>1</td>\n",
       "      <td>Chocolate Sandwich Cookies</td>\n",
       "      <td>61</td>\n",
       "      <td>19</td>\n",
       "      <td>5.8</td>\n",
       "      <td>1813452</td>\n",
       "      <td>764</td>\n",
       "      <td>3</td>\n",
       "      <td>4</td>\n",
       "      <td>17</td>\n",
       "      <td>9.0</td>\n",
       "      <td>0</td>\n",
       "      <td>11</td>\n",
       "      <td>1</td>\n",
       "      <td>both</td>\n",
       "    </tr>\n",
       "  </tbody>\n",
       "</table>\n",
       "</div>"
      ],
      "text/plain": [
       "   product_id                product_name  aisle_id  department_id  prices  \\\n",
       "0           1  Chocolate Sandwich Cookies        61             19     5.8   \n",
       "1           1  Chocolate Sandwich Cookies        61             19     5.8   \n",
       "2           1  Chocolate Sandwich Cookies        61             19     5.8   \n",
       "3           1  Chocolate Sandwich Cookies        61             19     5.8   \n",
       "4           1  Chocolate Sandwich Cookies        61             19     5.8   \n",
       "\n",
       "   order_id  user_id  order_number  orders_day_of_week  order_hour_of_day  \\\n",
       "0   3139998      138            28                   6                 11   \n",
       "1   1977647      138            30                   6                 17   \n",
       "2    389851      709             2                   0                 21   \n",
       "3    652770      764             1                   3                 13   \n",
       "4   1813452      764             3                   4                 17   \n",
       "\n",
       "   days_since_prior_order  is_first_order  add_to_cart_order  reordered _merge  \n",
       "0                     3.0               0                  5          0   both  \n",
       "1                    20.0               0                  1          1   both  \n",
       "2                     6.0               0                 20          0   both  \n",
       "3                     NaN               1                 10          0   both  \n",
       "4                     9.0               0                 11          1   both  "
      ]
     },
     "execution_count": 14,
     "metadata": {},
     "output_type": "execute_result"
    }
   ],
   "source": [
    "# Confirming the results of the merge\n",
    "\n",
    "df_ords_prods_merge.head()"
   ]
  },
  {
   "cell_type": "code",
   "execution_count": 15,
   "id": "99964d97",
   "metadata": {},
   "outputs": [
    {
     "name": "stdout",
     "output_type": "stream",
     "text": [
      "<class 'pandas.core.frame.DataFrame'>\n",
      "RangeIndex: 32404859 entries, 0 to 32404858\n",
      "Data columns (total 15 columns):\n",
      " #   Column                  Dtype   \n",
      "---  ------                  -----   \n",
      " 0   product_id              int64   \n",
      " 1   product_name            object  \n",
      " 2   aisle_id                int64   \n",
      " 3   department_id           int64   \n",
      " 4   prices                  float64 \n",
      " 5   order_id                int64   \n",
      " 6   user_id                 int64   \n",
      " 7   order_number            int64   \n",
      " 8   orders_day_of_week      int64   \n",
      " 9   order_hour_of_day       int64   \n",
      " 10  days_since_prior_order  float64 \n",
      " 11  is_first_order          int64   \n",
      " 12  add_to_cart_order       int64   \n",
      " 13  reordered               int64   \n",
      " 14  _merge                  category\n",
      "dtypes: category(1), float64(2), int64(11), object(1)\n",
      "memory usage: 3.4+ GB\n",
      "None\n"
     ]
    }
   ],
   "source": [
    "# Checking the results of the merged data\n",
    "\n",
    "print(df_ords_prods_merge.info())"
   ]
  },
  {
   "cell_type": "code",
   "execution_count": 16,
   "id": "bfc4eae6",
   "metadata": {},
   "outputs": [
    {
     "data": {
      "text/plain": [
       "(32404859, 15)"
      ]
     },
     "execution_count": 16,
     "metadata": {},
     "output_type": "execute_result"
    }
   ],
   "source": [
    "# Checking the results of the merged data\n",
    "\n",
    "df_ords_prods_merge.shape"
   ]
  },
  {
   "cell_type": "markdown",
   "id": "9903cf8c",
   "metadata": {},
   "source": [
    "#### Checking the results of the rows and cols:\n",
    "\n",
    "- df_ords_prods_combined \n",
    "(32434489, 13)\n",
    "(32434489, 10) # after dropping unnec.col\n",
    "\n",
    "- df_prods\n",
    "(49672, 6)\n",
    "(49672, 5)  # after dropping unnec.col\n",
    "\n",
    "df_ords_prods_merge\n",
    "(32404859, 15)\n"
   ]
  },
  {
   "cell_type": "code",
   "execution_count": 17,
   "id": "cd4aab66",
   "metadata": {},
   "outputs": [
    {
     "data": {
      "text/plain": [
       "_merge\n",
       "both          32404859\n",
       "left_only            0\n",
       "right_only           0\n",
       "Name: count, dtype: int64"
      ]
     },
     "execution_count": 17,
     "metadata": {},
     "output_type": "execute_result"
    }
   ],
   "source": [
    "# Checking the results of the merge using the \"value_counts()\" function\n",
    "\n",
    "df_ords_prods_merge['_merge'].value_counts()"
   ]
  },
  {
   "cell_type": "markdown",
   "id": "647e181a",
   "metadata": {},
   "source": [
    "## 3. Export the merged dataframe as a Pickle"
   ]
  },
  {
   "cell_type": "code",
   "execution_count": 18,
   "id": "d9c17bb7",
   "metadata": {},
   "outputs": [
    {
     "name": "stdout",
     "output_type": "stream",
     "text": [
      "   product_id                product_name  aisle_id  department_id  prices  \\\n",
      "0           1  Chocolate Sandwich Cookies        61             19     5.8   \n",
      "1           1  Chocolate Sandwich Cookies        61             19     5.8   \n",
      "2           1  Chocolate Sandwich Cookies        61             19     5.8   \n",
      "3           1  Chocolate Sandwich Cookies        61             19     5.8   \n",
      "4           1  Chocolate Sandwich Cookies        61             19     5.8   \n",
      "\n",
      "   order_id  user_id  order_number  orders_day_of_week  order_hour_of_day  \\\n",
      "0   3139998      138            28                   6                 11   \n",
      "1   1977647      138            30                   6                 17   \n",
      "2    389851      709             2                   0                 21   \n",
      "3    652770      764             1                   3                 13   \n",
      "4   1813452      764             3                   4                 17   \n",
      "\n",
      "   days_since_prior_order  is_first_order  add_to_cart_order  reordered _merge  \n",
      "0                     3.0               0                  5          0   both  \n",
      "1                    20.0               0                  1          1   both  \n",
      "2                     6.0               0                 20          0   both  \n",
      "3                     NaN               1                 10          0   both  \n",
      "4                     9.0               0                 11          1   both  \n",
      "<class 'pandas.core.frame.DataFrame'>\n",
      "RangeIndex: 32404859 entries, 0 to 32404858\n",
      "Data columns (total 15 columns):\n",
      " #   Column                  Dtype   \n",
      "---  ------                  -----   \n",
      " 0   product_id              int64   \n",
      " 1   product_name            object  \n",
      " 2   aisle_id                int64   \n",
      " 3   department_id           int64   \n",
      " 4   prices                  float64 \n",
      " 5   order_id                int64   \n",
      " 6   user_id                 int64   \n",
      " 7   order_number            int64   \n",
      " 8   orders_day_of_week      int64   \n",
      " 9   order_hour_of_day       int64   \n",
      " 10  days_since_prior_order  float64 \n",
      " 11  is_first_order          int64   \n",
      " 12  add_to_cart_order       int64   \n",
      " 13  reordered               int64   \n",
      " 14  _merge                  category\n",
      "dtypes: category(1), float64(2), int64(11), object(1)\n",
      "memory usage: 3.4+ GB\n",
      "None\n",
      "(32404859, 15)\n"
     ]
    }
   ],
   "source": [
    "# Perform a final check of the dataframe before exporting\n",
    "\n",
    "print(df_ords_prods_merge.head())\n",
    "print(df_ords_prods_merge.info())\n",
    "print(df_ords_prods_merge.shape)"
   ]
  },
  {
   "cell_type": "code",
   "execution_count": 19,
   "id": "85a6002f",
   "metadata": {},
   "outputs": [],
   "source": [
    "# Export the merged dataframe to Pickle as \"ords_prods_merge.pkl\"\n",
    "\n",
    "df_ords_prods_merge.to_pickle(os.path.join(path, '02 Data', 'Prepared Data', 'ords_prods_merge.pkl'))"
   ]
  },
  {
   "cell_type": "code",
   "execution_count": null,
   "id": "51824c56",
   "metadata": {},
   "outputs": [],
   "source": []
  }
 ],
 "metadata": {
  "kernelspec": {
   "display_name": "Python 3 (ipykernel)",
   "language": "python",
   "name": "python3"
  },
  "language_info": {
   "codemirror_mode": {
    "name": "ipython",
    "version": 3
   },
   "file_extension": ".py",
   "mimetype": "text/x-python",
   "name": "python",
   "nbconvert_exporter": "python",
   "pygments_lexer": "ipython3",
   "version": "3.12.3"
  }
 },
 "nbformat": 4,
 "nbformat_minor": 5
}
